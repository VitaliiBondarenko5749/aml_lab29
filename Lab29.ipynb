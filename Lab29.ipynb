{
 "cells": [
  {
   "cell_type": "code",
   "execution_count": 1,
   "id": "c68ec475-80e8-472b-9ade-f868c397ca53",
   "metadata": {},
   "outputs": [
    {
     "data": {
      "text/plain": [
       "\"\\nДля цієї лабораторної роботи я буду використовувати датасет CNN/DailyMail. Поля: text, highlights\\nПосилання: https://www.kaggle.com/datasets/gowrishankarp/newspaper-text-summarization-cnn-dailymail\\n\\n!!!!!!!!!!!!!!!!!!!!!!!!!!!!!!!!!!!!!!!!!!!!!!!!!!!!!!!!!!!!!!!!!!!!!!!!!!!!!!!!!!!!!!!!!!!!!!!!!!\\nЯ ВЗЯВ 10 тис. даних з датасету через те, що у мене зависає середовище під час навчання та навіть\\nперезавантажується комп'ютер + ЗМЕНШИВ КІЛЬКІСТЬ ТЕКСТІВ ДЛЯ СУМАРИЗАЦІЇ ДЛЯ ПАСИВНОГО ТА АКТИВНОГО НАВЧАННЯ.\\n!!!!!!!!!!!!!!!!!!!!!!!!!!!!!!!!!!!!!!!!!!!!!!!!!!!!!!!!!!!!!!!!!!!!!!!!!!!!!!!!!!!!!!!!!!!!!!!!!!\\n\\nЗапуск веб-додатку ідентичний з попередніх лаб.\\n\""
      ]
     },
     "execution_count": 1,
     "metadata": {},
     "output_type": "execute_result"
    }
   ],
   "source": [
    "\"\"\"\n",
    "Для цієї лабораторної роботи я буду використовувати датасет CNN/DailyMail. Поля: text, highlights\n",
    "Посилання: https://www.kaggle.com/datasets/gowrishankarp/newspaper-text-summarization-cnn-dailymail\n",
    "\n",
    "!!!!!!!!!!!!!!!!!!!!!!!!!!!!!!!!!!!!!!!!!!!!!!!!!!!!!!!!!!!!!!!!!!!!!!!!!!!!!!!!!!!!!!!!!!!!!!!!!!\n",
    "Я ВЗЯВ 10 тис. даних з датасету через те, що у мене зависає середовище під час навчання та навіть\n",
    "перезавантажується комп'ютер + ЗМЕНШИВ КІЛЬКІСТЬ ТЕКСТІВ ДЛЯ СУМАРИЗАЦІЇ ДЛЯ ПАСИВНОГО ТА АКТИВНОГО НАВЧАННЯ.\n",
    "!!!!!!!!!!!!!!!!!!!!!!!!!!!!!!!!!!!!!!!!!!!!!!!!!!!!!!!!!!!!!!!!!!!!!!!!!!!!!!!!!!!!!!!!!!!!!!!!!!\n",
    "\n",
    "Запуск веб-додатку ідентичний з попередніх лаб.\n",
    "\"\"\""
   ]
  },
  {
   "cell_type": "code",
   "execution_count": 3,
   "id": "ef246f5e-0be0-4f38-9d28-ae5b6f2bf9fb",
   "metadata": {},
   "outputs": [],
   "source": [
    "# Імпортуємо бібліотеки\n",
    "import numpy as np\n",
    "import pandas as pd\n",
    "import random\n",
    "from sklearn.model_selection import train_test_split\n",
    "from sklearn.utils import shuffle\n",
    "import torch\n",
    "from transformers import BartForConditionalGeneration, BartTokenizer\n",
    "from flask import Flask, request, render_template\n",
    "import warnings\n",
    "warnings.filterwarnings(\"ignore\")"
   ]
  },
  {
   "cell_type": "code",
   "execution_count": 5,
   "id": "112a8708-f81b-493a-ac35-7101414c858f",
   "metadata": {},
   "outputs": [
    {
     "name": "stdout",
     "output_type": "stream",
     "text": [
      "                                              id  \\\n",
      "272581  ed0fed726929c1eeabe6c390e47128dbb7d7a055   \n",
      "772     023cd84001b33aed4ff0f3f5ecb0fdd2151cf543   \n",
      "171868  6a70a0d8d3ed365fe1df6d35f1587a8b9b298618   \n",
      "63167   b37204c13ea38b511265e41ac69fb12acfb63f85   \n",
      "68522   c24e5805afd5145bc48410e876db91d44a06be5e   \n",
      "\n",
      "                                                  article  \\\n",
      "272581  By . Mia De Graaf . Britons flocked to beaches...   \n",
      "772     A couple who weighed a combined 32st were sham...   \n",
      "171868  Video footage shows the heart stopping moment ...   \n",
      "63167   Istanbul, Turkey (CNN) -- About 250 people rac...   \n",
      "68522   By . Daily Mail Reporter . PUBLISHED: . 12:53 ...   \n",
      "\n",
      "                                               highlights  \n",
      "272581  People enjoyed temperatures of 17C at Brighton...  \n",
      "772     Couple started piling on pounds after the birt...  \n",
      "171868  A 17-year-old boy suffering lacerations to his...  \n",
      "63167   Syrians citizens hightail it to Turkey .\\nMost...  \n",
      "68522   The Xue Long had provided the helicopter that ...  \n"
     ]
    }
   ],
   "source": [
    "# Завантаження набору даних\n",
    "df = pd.read_csv('train.csv').sample(n=10000, random_state=42)\n",
    "\n",
    "print(df.head())"
   ]
  },
  {
   "cell_type": "code",
   "execution_count": 7,
   "id": "580828ea-6bfd-44db-8129-d33998227eca",
   "metadata": {},
   "outputs": [],
   "source": [
    "# Підготовка даних\n",
    "X = df['article'].values\n",
    "y = df['highlights'].values\n",
    "\n",
    "# Розділення даних на початковий тренувальний та тестовий набір\n",
    "X_train, X_test, y_train, y_test = train_test_split(X, y, test_size=0.3, random_state=42)\n",
    "\n",
    "# Вибірка для активного навчання\n",
    "X_pool, y_pool = shuffle(X_test, y_test, random_state=42)\n",
    "initial_training_size = 50\n",
    "active_iterations = 3\n",
    "selection_size = 10\n",
    "\n",
    "# Початковий тренувальний набір\n",
    "X_initial, y_initial = X_pool[:initial_training_size], y_pool[:initial_training_size]\n",
    "X_pool, y_pool = X_pool[initial_training_size:], y_pool[initial_training_size:]"
   ]
  },
  {
   "cell_type": "code",
   "execution_count": 9,
   "id": "53e9e724-a6e9-4e7d-88b6-aa2bd6d9939b",
   "metadata": {},
   "outputs": [],
   "source": [
    "# Завантаження моделі сумаризації з використанням Transformers\n",
    "model_name = 'facebook/bart-large-cnn'\n",
    "tokenizer = BartTokenizer.from_pretrained(model_name)\n",
    "model = BartForConditionalGeneration.from_pretrained(model_name)\n",
    "\n",
    "# Функція сумаризації тексту\n",
    "def summarize(texts):\n",
    "    inputs = tokenizer(texts, return_tensors=\"pt\", padding=True, truncation=True, max_length=1024)\n",
    "    summaries = model.generate(inputs['input_ids'], max_length=150, min_length=30, length_penalty=2.0, num_beams=4, early_stopping=True)\n",
    "    summarized_texts = [tokenizer.decode(s, skip_special_tokens=True) for s in summaries]\n",
    "    return summarized_texts"
   ]
  },
  {
   "cell_type": "code",
   "execution_count": 11,
   "id": "b262a855-5675-4287-9786-7f0b764592d4",
   "metadata": {},
   "outputs": [
    {
     "name": "stdout",
     "output_type": "stream",
     "text": [
      "Початкове навчання моделі...\n",
      "Початкове навчання завершено. Оцінка на початковому наборі даних:\n",
      "Оригінал: By . Daily Mail Reporter . PUBLISHED: . 01:03 EST, 15 May 2013 . | . UPDATED: . 01:03 EST, 15 May 20...\n",
      "Підсумок: Hussain Al Khawahir, 33, was detained after arriving at Detroit Metropolitan Airport on a flight from Amsterdam on Saturday. His lawyer said many people from Saudi Arabia travel with pressure cookers to cook lamb. Pressure cookers were set off at the finish line of the Boston Marathon on April 15.\n",
      "\n",
      "Оригінал: ATLANTA, Georgia (CNN) -- The scar has faded over his left eye, but the fireworks injury that Tony W...\n",
      "Підсумок: Over 9,000 people are injured each year because of fireworks, on average seven people die. Burns, lacerations and eye injuries are some of the most common injuries reported. Consumer Product Safety Commission: Never allow children to play with or ignite fireworks.\n",
      "\n",
      "Оригінал: An American veterinarian's trip of a lifetime was ruined in September when she was arrested in East ...\n",
      "Підсумок: Stacey Addison, 41, is currently imprisoned in East Timor, where she is being held as a witness to a crime. The veterinarian from Portland, Oregon was arrested in September after sharing a cab with a stranger who was caught smuggling meth in the southeast Asian country. Since then, she has been unable to leave the country, and is currently being held at a women's prison as the State Department and members of Congress fight for her release.\n",
      "\n",
      "Оригінал: Daniel Crowley's penalty guided Arsenal into the fourth round of the FA Youth Cup following a hard-f...\n",
      "Підсумок: Arsenal beat Reading 1-0 in the third round of the FA Youth Cup. Daniel Crowley scored the winner from the penalty spot in the 65th minute. The 17-year-old midfielder signed his first professional contract with the club back in August. Arsenal will face non-league Royston Town in the next round.\n",
      "\n",
      "Оригінал: While the U.S. has always been a beacon of medical advancement for the world, American women today a...\n",
      "Підсумок: Life expectancy rates among women have been worsening in about half of all U.S. counties. The most troubled area for women seems to be in the Southeast, where there is the highest density of red - . especially in the states of Kentucky, West Virginia, Arkansas and Tennessee. The Northeast and Southwest are the areas with the least amount of red.\n",
      "\n"
     ]
    }
   ],
   "source": [
    "# Початкове навчання моделі та оцінка якості сумаризації\n",
    "print(\"Початкове навчання моделі...\")\n",
    "initial_summaries = summarize(X_initial[:20].tolist())\n",
    "print(\"Початкове навчання завершено. Оцінка на початковому наборі даних:\")\n",
    "for text, summary in zip(X_initial[:5], initial_summaries[:5]):\n",
    "    print(f\"Оригінал: {text[:100]}...\")\n",
    "    print(f\"Підсумок: {summary}\")\n",
    "    print()"
   ]
  },
  {
   "cell_type": "code",
   "execution_count": 13,
   "id": "aa3eed32-8787-43ae-9421-23330fcbe360",
   "metadata": {},
   "outputs": [
    {
     "data": {
      "text/plain": [
       "'\\n- Модель здатна зводити великі новинні тексти до основних фактів і ключових подій. \\nНаприклад, у випадку з Арсеналом та FA Youth Cup, модель чітко виділила результат матчу та основні моменти, \\nтакі як переможний пенальті Деніела Кроулі. У підсумках добре передано основні факти.\\n\\n- Модель добре справляється із завданням виділення суттєвих деталей у текстах на медичні або технічні теми, наприклад, \\nяк у випадку з інформацією про феєрверки.\\n\\n- У деяких випадках модель могла не повністю зберегти контекст, що може призводити до втрати деталей або їх викривлення. \\nНаприклад, у підсумку про жінок у США, інформація щодо регіонів була представлена нечітко\\n\\n- Модель часом мала труднощі з правильним визначенням та передачею імен або географічних назв, \\nщо можна побачити в деяких підсумках. Наприклад, вона виявила деталі про Хуссейна Аль Хавагіра, \\nале контекст того, як і чому його затримали, міг бути переданий точніше.\\n\\n'"
      ]
     },
     "execution_count": 13,
     "metadata": {},
     "output_type": "execute_result"
    }
   ],
   "source": [
    "\"\"\"\n",
    "- Модель здатна зводити великі новинні тексти до основних фактів і ключових подій. \n",
    "Наприклад, у випадку з Арсеналом та FA Youth Cup, модель чітко виділила результат матчу та основні моменти, \n",
    "такі як переможний пенальті Деніела Кроулі. У підсумках добре передано основні факти.\n",
    "\n",
    "- Модель добре справляється із завданням виділення суттєвих деталей у текстах на медичні або технічні теми, наприклад, \n",
    "як у випадку з інформацією про феєрверки.\n",
    "\n",
    "- У деяких випадках модель могла не повністю зберегти контекст, що може призводити до втрати деталей або їх викривлення. \n",
    "Наприклад, у підсумку про жінок у США, інформація щодо регіонів була представлена нечітко\n",
    "\n",
    "- Модель часом мала труднощі з правильним визначенням та передачею імен або географічних назв, \n",
    "що можна побачити в деяких підсумках. Наприклад, вона виявила деталі про Хуссейна Аль Хавагіра, \n",
    "але контекст того, як і чому його затримали, міг бути переданий точніше.\n",
    "\n",
    "\"\"\""
   ]
  },
  {
   "cell_type": "code",
   "execution_count": 15,
   "id": "321582bc-e1f1-435e-a954-c25914f5cb0d",
   "metadata": {},
   "outputs": [
    {
     "name": "stdout",
     "output_type": "stream",
     "text": [
      "Ітерація 1, Кількість текстів для навчання: 60\n",
      "Ітерація 2, Кількість текстів для навчання: 70\n",
      "Ітерація 3, Кількість текстів для навчання: 80\n",
      "Фінальна оцінка моделі на тестовому наборі:\n",
      "Оригінал: When the rest of us are steering clear of danger, Mike Hollingshead is seeking it out to document so...\n",
      "Підсумок: Storm chaser Mike Hollingshead, from Nebraska, goes in search of tornadoes, supercells, lightning bolts and other natural phenomena throughout the United States' mid-west. The 38-year-old drives about 20,000 miles every year trying to find and shoot weather patterns that can rip up crops and blow houses away.\n",
      "\n",
      "Оригінал: Martin Kaymer has vowed to follow in Rory McIlroy’s footsteps and use a bitter experience as added m...\n",
      "Підсумок: Martin Kaymer threw away a 10-shot lead at the Abu Dhabi Championship. The German admits he has been doing plenty of soul-searching. Rory McIlroy experienced something similar at the Masters in 2011.\n",
      "\n",
      "Оригінал: By . David Kent . Tim Sherwood launched an extraordinary attack on his players and the club after th...\n",
      "Підсумок: Tottenham manager Tim Sherwood hits out at his players and the club after their 4-0 defeat against Chelsea at Stamford Bridge. He says there are players he 'couldn't count on' and urged the club's hierarchy to 'wake up' in their hopes of qualifying for the Champions League. 'There is a lack of character and, too many who are too nice to each other,' he said. Samuel Eto'o, Eden Hazard and two goals from Demba Ba saw Chelsea run riot against their London rivals.\n",
      "\n",
      "Оригінал: WASHINGTON (CNN) -- Five former Blackwater Worldwide security guards pleaded not guilty Tuesday to v...\n",
      "Підсумок: Five former Blackwater guards plead not guilty to voluntary manslaughter charges. Charges stem from shooting incident in Baghdad that left 17 Iraqis dead. Each of the former guards has been charged with 14 counts of manslaughter. Judge Ricardo Urbina set a trial date for February 1, 2010.\n",
      "\n",
      "Оригінал: Missing: Terry Dewayne Smith Jr went missing Saturday night while his step-brother was babysitting a...\n",
      "Підсумок: Terry Dewayne Smith Jr went missing Saturday night while his step-brother was babysitting and his body was found on Wednesday. His half-brother, 16-year-old Skylor Atilano, has since been charged with the boy's murder. A judge will determine in September whether the teenager will be tried as a juvenile or as an adult.\n",
      "\n"
     ]
    }
   ],
   "source": [
    "# Імплементація активного навчання\n",
    "for i in range(active_iterations):\n",
    "    # Вибір найбільш невизначених прикладів для додавання до тренувального набору\n",
    "    uncertain_indices = random.sample(range(len(X_pool)), selection_size)  # Використання випадкового вибору для спрощення\n",
    "    \n",
    "    # Додавання вибраних прикладів до тренувального набору\n",
    "    X_selected = [X_pool[i] for i in uncertain_indices]\n",
    "    y_selected = [y_pool[i] for i in uncertain_indices]\n",
    "    \n",
    "    X_initial = np.concatenate((X_initial, X_selected))\n",
    "    y_initial = np.concatenate((y_initial, y_selected))\n",
    "    \n",
    "    # Видалення вибраних прикладів із пулу\n",
    "    X_pool = np.delete(X_pool, uncertain_indices, axis=0)\n",
    "    y_pool = np.delete(y_pool, uncertain_indices, axis=0)\n",
    "    \n",
    "    # Перенавчання моделі сумаризації (симуляція за допомогою нового сумаризування)\n",
    "    summaries = summarize(X_initial[:20].tolist())  # Зменшено кількість текстів для сумаризації під час активного навчання\n",
    "    print(f\"Ітерація {i + 1}, Кількість текстів для навчання: {len(X_initial)}\")\n",
    "\n",
    "# Фінальна оцінка моделі\n",
    "final_summaries = summarize(X_test[:5].tolist())  # Сумаризація для оцінки якості на тестовому наборі\n",
    "print(\"Фінальна оцінка моделі на тестовому наборі:\")\n",
    "for text, summary in zip(X_test[:5], final_summaries):\n",
    "    print(f\"Оригінал: {text[:100]}...\")\n",
    "    print(f\"Підсумок: {summary}\")\n",
    "    print()"
   ]
  },
  {
   "cell_type": "code",
   "execution_count": 17,
   "id": "5bd12d9f-be46-49d7-a054-defbecb474b2",
   "metadata": {},
   "outputs": [
    {
     "data": {
      "text/plain": [
       "'\\n- Активне навчання дало змогу моделі краще адаптуватися до складних текстів, на яких вона тренувалася в кожній ітерації, \\nщо видно з точніших підсумків у фінальній оцінці.\\n\\n- Модель стала краще виявляти і виділяти ключові факти з оригінальних текстів. Наприклад, у випадку зі штормовим мисливцем Майком Голлінгсгедом, \\nмодель змогла виділити його діяльність, місце та типи погодних явищ, які він знімає, створюючи детальний і чіткий підсумок.\\n\\n- Під кінець активного навчання модель змогла краще структуровано подавати підсумки текстів, зберігаючи їхню логіку і послідовність. \\nНаприклад, підсумок про Тоттенхем і Тіма Шервуда був представлений послідовно і включав не лише результат, але й важливі коментарі тренера.\\n\\n- Незважаючи на покращення, модель все ще має певні труднощі з повною передачею складних юридичних або кримінальних текстів. \\nНаприклад, підсумок про п’ятьох колишніх охоронців Blackwater, хоча й містить важливу інформацію, іноді може виявляти тенденцію \\nдо втрати частини контексту.\\n\\n'"
      ]
     },
     "execution_count": 17,
     "metadata": {},
     "output_type": "execute_result"
    }
   ],
   "source": [
    "\"\"\"\n",
    "- Активне навчання дало змогу моделі краще адаптуватися до складних текстів, на яких вона тренувалася в кожній ітерації, \n",
    "що видно з точніших підсумків у фінальній оцінці.\n",
    "\n",
    "- Модель стала краще виявляти і виділяти ключові факти з оригінальних текстів. Наприклад, у випадку зі штормовим мисливцем Майком Голлінгсгедом, \n",
    "модель змогла виділити його діяльність, місце та типи погодних явищ, які він знімає, створюючи детальний і чіткий підсумок.\n",
    "\n",
    "- Під кінець активного навчання модель змогла краще структуровано подавати підсумки текстів, зберігаючи їхню логіку і послідовність. \n",
    "Наприклад, підсумок про Тоттенхем і Тіма Шервуда був представлений послідовно і включав не лише результат, але й важливі коментарі тренера.\n",
    "\n",
    "- Незважаючи на покращення, модель все ще має певні труднощі з повною передачею складних юридичних або кримінальних текстів. \n",
    "Наприклад, підсумок про п’ятьох колишніх охоронців Blackwater, хоча й містить важливу інформацію, іноді може виявляти тенденцію \n",
    "до втрати частини контексту.\n",
    "\n",
    "\"\"\""
   ]
  },
  {
   "cell_type": "code",
   "execution_count": 19,
   "id": "5158ded5-a9d0-4e6c-bc07-1a9aeb858f50",
   "metadata": {},
   "outputs": [
    {
     "name": "stdout",
     "output_type": "stream",
     "text": [
      " * Serving Flask app '__main__'\n",
      " * Debug mode: on\n"
     ]
    },
    {
     "name": "stderr",
     "output_type": "stream",
     "text": [
      "WARNING: This is a development server. Do not use it in a production deployment. Use a production WSGI server instead.\n",
      " * Running on http://127.0.0.1:5001\n",
      "Press CTRL+C to quit\n",
      "127.0.0.1 - - [25/Oct/2024 19:22:57] \"GET / HTTP/1.1\" 200 -\n",
      "127.0.0.1 - - [25/Oct/2024 19:22:57] \"GET /favicon.ico HTTP/1.1\" 404 -\n",
      "127.0.0.1 - - [25/Oct/2024 19:23:06] \"POST /annotate HTTP/1.1\" 200 -\n",
      "127.0.0.1 - - [25/Oct/2024 19:23:33] \"POST /submit_annotation HTTP/1.1\" 200 -\n",
      "127.0.0.1 - - [25/Oct/2024 19:28:01] \"GET / HTTP/1.1\" 200 -\n",
      "127.0.0.1 - - [25/Oct/2024 19:28:03] \"GET /review HTTP/1.1\" 200 -\n",
      "127.0.0.1 - - [25/Oct/2024 19:28:13] \"GET /review HTTP/1.1\" 200 -\n",
      "127.0.0.1 - - [25/Oct/2024 19:29:02] \"GET / HTTP/1.1\" 200 -\n",
      "127.0.0.1 - - [25/Oct/2024 19:29:05] \"GET /review HTTP/1.1\" 200 -\n",
      "127.0.0.1 - - [25/Oct/2024 19:34:00] \"POST /annotate HTTP/1.1\" 200 -\n",
      "127.0.0.1 - - [25/Oct/2024 19:35:06] \"GET /review HTTP/1.1\" 200 -\n"
     ]
    }
   ],
   "source": [
    "# Створення веб-інтерфейсу для анотації за допомогою Flask\n",
    "app = Flask(__name__)\n",
    "\n",
    "@app.route('/')\n",
    "def home():\n",
    "    return render_template('index.html')\n",
    "\n",
    "@app.route('/annotate', methods=['POST'])\n",
    "def annotate():\n",
    "    # Отримання випадкового тексту з пулу для анотації\n",
    "    if len(X_pool) > 0:\n",
    "        index = random.choice(range(len(X_pool)))\n",
    "        text = X_pool[index]\n",
    "        return render_template('annotate.html', text=text, index=index)\n",
    "    else:\n",
    "        return \"Пул текстів для анотації порожній.\"\n",
    "\n",
    "@app.route('/submit_annotation', methods=['POST'])\n",
    "def submit_annotation():\n",
    "    index = int(request.form['index'])\n",
    "    summary = request.form['summary']\n",
    "    global X_initial, y_initial, X_pool, y_pool\n",
    "\n",
    "    # Додавання анотації до тренувального набору\n",
    "    X_initial = np.concatenate((X_initial, [X_pool[index]]))\n",
    "    y_initial = np.concatenate((y_initial, [summary]))\n",
    "\n",
    "    # Видалення тексту з пулу\n",
    "    X_pool = np.delete(X_pool, index, axis=0)\n",
    "    y_pool = np.delete(y_pool, index, axis=0)\n",
    "\n",
    "    return \"Анотація збережена, модель оновлена.\"\n",
    "\n",
    "# Інтерфейс для перегляду і оцінки якості анотацій\n",
    "@app.route('/review', methods=['GET'])\n",
    "def review():\n",
    "    # Перегляд випадкових 5 анотованих текстів\n",
    "    random_indices = random.sample(range(len(X_initial)), min(5, len(X_initial)))\n",
    "    annotated_texts = [(X_initial[i], y_initial[i]) for i in random_indices]\n",
    "    return render_template('review.html', annotated_texts=annotated_texts)\n",
    "\n",
    "if __name__ == '__main__':\n",
    "    app.run(debug=True, port=5001, use_reloader=False)"
   ]
  },
  {
   "cell_type": "code",
   "execution_count": null,
   "id": "3793a818-7c9c-4d78-bbeb-9ed70520121a",
   "metadata": {},
   "outputs": [],
   "source": []
  }
 ],
 "metadata": {
  "kernelspec": {
   "display_name": "Python 3 (ipykernel)",
   "language": "python",
   "name": "python3"
  },
  "language_info": {
   "codemirror_mode": {
    "name": "ipython",
    "version": 3
   },
   "file_extension": ".py",
   "mimetype": "text/x-python",
   "name": "python",
   "nbconvert_exporter": "python",
   "pygments_lexer": "ipython3",
   "version": "3.12.4"
  }
 },
 "nbformat": 4,
 "nbformat_minor": 5
}
